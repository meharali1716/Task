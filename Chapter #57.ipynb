{
 "cells": [
  {
   "cell_type": "code",
   "execution_count": 2,
   "metadata": {},
   "outputs": [
    {
     "name": "stdout",
     "output_type": "stream",
     "text": [
      "Name : Sohail, Salary: 20000, Age: 19\n",
      "Name : Usman, Salary: 5000, Age: 22\n"
     ]
    }
   ],
   "source": [
    "class Employee:\n",
    "   empCount = 0\n",
    "\n",
    "   def __init__(self, name, salary, Age):\n",
    "      self.name = name\n",
    "      self.salary = salary\n",
    "      self.Age = Age\n",
    "      Employee.empCount += 1\n",
    "   \n",
    "   def displayCount(self):\n",
    "     print(\"Total Employee %d\" % Employee.empCount)\n",
    "   \n",
    "   def displayEmployee(self):\n",
    "      print(\"Name : \"+ str(self.name)+  \", Salary: \"+ str(self.salary)+ \", Age: \"+ str(self.Age))\n",
    "        \n",
    "        \n",
    "# This would create first object of Employee class\n",
    "emp1 = Employee(\"Sohail\", 20000, 19)\n",
    "# This would create second object of Employee class\n",
    "emp2 = Employee(\"Usman\", 5000, 22)\n",
    "\n",
    "emp1.displayEmployee()\n",
    "emp2.displayEmployee()"
   ]
  },
  {
   "cell_type": "code",
   "execution_count": null,
   "metadata": {},
   "outputs": [],
   "source": []
  }
 ],
 "metadata": {
  "kernelspec": {
   "display_name": "Python 3",
   "language": "python",
   "name": "python3"
  },
  "language_info": {
   "codemirror_mode": {
    "name": "ipython",
    "version": 3
   },
   "file_extension": ".py",
   "mimetype": "text/x-python",
   "name": "python",
   "nbconvert_exporter": "python",
   "pygments_lexer": "ipython3",
   "version": "3.6.5"
  }
 },
 "nbformat": 4,
 "nbformat_minor": 2
}
