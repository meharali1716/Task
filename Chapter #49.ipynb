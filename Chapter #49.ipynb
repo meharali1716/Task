{
 "cells": [
  {
   "cell_type": "code",
   "execution_count": 5,
   "metadata": {},
   "outputs": [
    {
     "name": "stdout",
     "output_type": "stream",
     "text": [
      "25\n",
      "10\n"
     ]
    }
   ],
   "source": [
    "a=10    #globle variable\n",
    "\n",
    "def addition(b,c): #local variables\n",
    "    y= b+c+a\n",
    "    print (y)\n",
    "    \n",
    "def subtraction(a,b): #local variables\n",
    "    y = a-b\n",
    "    return y\n",
    "\n",
    "addition(10,5)\n",
    "\n",
    "Sum = subtraction(15,5)\n",
    "print(Sum)"
   ]
  },
  {
   "cell_type": "code",
   "execution_count": null,
   "metadata": {},
   "outputs": [],
   "source": []
  }
 ],
 "metadata": {
  "kernelspec": {
   "display_name": "Python 3",
   "language": "python",
   "name": "python3"
  },
  "language_info": {
   "codemirror_mode": {
    "name": "ipython",
    "version": 3
   },
   "file_extension": ".py",
   "mimetype": "text/x-python",
   "name": "python",
   "nbconvert_exporter": "python",
   "pygments_lexer": "ipython3",
   "version": "3.6.5"
  }
 },
 "nbformat": 4,
 "nbformat_minor": 2
}
